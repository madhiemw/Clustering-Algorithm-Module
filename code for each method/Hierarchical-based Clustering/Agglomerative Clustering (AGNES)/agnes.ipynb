{
 "cells": [
  {
   "cell_type": "code",
   "execution_count": 17,
   "metadata": {},
   "outputs": [],
   "source": [
    "import pandas as pd\n",
    "df = pd.read_csv('scraping.csv')"
   ]
  },
  {
   "cell_type": "code",
   "execution_count": 18,
   "metadata": {},
   "outputs": [
    {
     "name": "stderr",
     "output_type": "stream",
     "text": [
      "C:\\Users\\jhonm\\AppData\\Local\\Temp\\ipykernel_62716\\75004709.py:5: FutureWarning: The default value of regex will change from True to False in a future version.\n",
      "  df.text = df.text.str.replace('\\d+', '')\n",
      "C:\\Users\\jhonm\\AppData\\Local\\Temp\\ipykernel_62716\\75004709.py:2: FutureWarning: The default value of regex will change from True to False in a future version. In addition, single character regular expressions will *not* be treated as literal strings when regex=True.\n",
      "  df['text']= df['text'].str.replace(a,b)\n"
     ]
    },
    {
     "data": {
      "text/html": [
       "<div>\n",
       "<style scoped>\n",
       "    .dataframe tbody tr th:only-of-type {\n",
       "        vertical-align: middle;\n",
       "    }\n",
       "\n",
       "    .dataframe tbody tr th {\n",
       "        vertical-align: top;\n",
       "    }\n",
       "\n",
       "    .dataframe thead th {\n",
       "        text-align: right;\n",
       "    }\n",
       "</style>\n",
       "<table border=\"1\" class=\"dataframe\">\n",
       "  <thead>\n",
       "    <tr style=\"text-align: right;\">\n",
       "      <th></th>\n",
       "      <th>Unnamed: 0</th>\n",
       "      <th>text</th>\n",
       "    </tr>\n",
       "  </thead>\n",
       "  <tbody>\n",
       "    <tr>\n",
       "      <th>0</th>\n",
       "      <td>0</td>\n",
       "      <td>timestamp \\n opening\\n disclaimer \\n iklan kop...</td>\n",
       "    </tr>\n",
       "    <tr>\n",
       "      <th>1</th>\n",
       "      <td>1</td>\n",
       "      <td>team speaker eggel sudah punya yang eggel fit ...</td>\n",
       "    </tr>\n",
       "    <tr>\n",
       "      <th>2</th>\n",
       "      <td>2</td>\n",
       "      <td>wah kebetulan lagi nyari speaker bluetooth yan...</td>\n",
       "    </tr>\n",
       "    <tr>\n",
       "      <th>3</th>\n",
       "      <td>3</td>\n",
       "      <td>masih qcy box  tetap di hati gua punya speaker...</td>\n",
       "    </tr>\n",
       "    <tr>\n",
       "      <th>4</th>\n",
       "      <td>4</td>\n",
       "      <td>this is where local industries start rising pr...</td>\n",
       "    </tr>\n",
       "    <tr>\n",
       "      <th>...</th>\n",
       "      <td>...</td>\n",
       "      <td>...</td>\n",
       "    </tr>\n",
       "    <tr>\n",
       "      <th>1419</th>\n",
       "      <td>1419</td>\n",
       "      <td>nah</td>\n",
       "    </tr>\n",
       "    <tr>\n",
       "      <th>1420</th>\n",
       "      <td>1420</td>\n",
       "      <td>tod bacod</td>\n",
       "    </tr>\n",
       "    <tr>\n",
       "      <th>1421</th>\n",
       "      <td>1421</td>\n",
       "      <td>sori gw dislike textnya mengganggu gambar</td>\n",
       "    </tr>\n",
       "    <tr>\n",
       "      <th>1422</th>\n",
       "      <td>1422</td>\n",
       "      <td>rinrei</td>\n",
       "    </tr>\n",
       "    <tr>\n",
       "      <th>1423</th>\n",
       "      <td>1423</td>\n",
       "      <td></td>\n",
       "    </tr>\n",
       "  </tbody>\n",
       "</table>\n",
       "<p>1424 rows × 2 columns</p>\n",
       "</div>"
      ],
      "text/plain": [
       "      Unnamed: 0                                               text\n",
       "0              0  timestamp \\n opening\\n disclaimer \\n iklan kop...\n",
       "1              1  team speaker eggel sudah punya yang eggel fit ...\n",
       "2              2  wah kebetulan lagi nyari speaker bluetooth yan...\n",
       "3              3  masih qcy box  tetap di hati gua punya speaker...\n",
       "4              4  this is where local industries start rising pr...\n",
       "...          ...                                                ...\n",
       "1419        1419                                                nah\n",
       "1420        1420                                          tod bacod\n",
       "1421        1421          sori gw dislike textnya mengganggu gambar\n",
       "1422        1422                                             rinrei\n",
       "1423        1423                                                   \n",
       "\n",
       "[1424 rows x 2 columns]"
      ]
     },
     "execution_count": 18,
     "metadata": {},
     "output_type": "execute_result"
    }
   ],
   "source": [
    "def clean(a,b):\n",
    "    df['text']= df['text'].str.replace(a,b)\n",
    "df['text'] = df['text'].astype(str).str.lower()\n",
    "df.text = df.text.str.replace('\\d+', '')\n",
    "clean('.','')\n",
    "clean(',','')\n",
    "clean('-','')\n",
    "clean('/','')\n",
    "clean(':','')\n",
    "df"
   ]
  },
  {
   "cell_type": "code",
   "execution_count": 19,
   "metadata": {},
   "outputs": [],
   "source": [
    "from sklearn.feature_extraction.text import TfidfVectorizer\n",
    "vectorizer = TfidfVectorizer()\n",
    "x = vectorizer.fit_transform(df['text'].values.astype('U'))  ## Even astype(str) would work\n",
    "x = x.toarray()"
   ]
  },
  {
   "cell_type": "code",
   "execution_count": 31,
   "metadata": {},
   "outputs": [
    {
     "name": "stdout",
     "output_type": "stream",
     "text": [
      "                                                  title  cluster\n",
      "1423                                                           0\n",
      "1293  wkwkwkwkkimisoo spiker rompall bangngakakk abi...        0\n",
      "941   tambah terus durasinya bang  jangan remehin ho...        0\n",
      "537   ko gak masuk bang speaker eggel nyapdahal itu ...        0\n",
      "177   beberapa hari sempet bingung cari review sana ...        0\n",
      "...                                                 ...      ...\n",
      "1172                      eh eh \\nyang kalian cari wkwk       60\n",
      "1358                     ini yang kalian cari\\n\\neh ehh       60\n",
      "1241                                       yang di cari       60\n",
      "1244                        tuh yang di cari di tik tok       60\n",
      "1235                                     yg kalian cari       60\n",
      "\n",
      "[1424 rows x 2 columns]\n"
     ]
    }
   ],
   "source": [
    "from scipy.cluster.hierarchy import ward, dendrogram, fcluster, single, complete\n",
    "from sklearn.cluster import AgglomerativeClustering\n",
    "import matplotlib.pyplot as plt\n",
    "%matplotlib inline\n",
    "\n",
    "model = AgglomerativeClustering(distance_threshold=2, n_clusters=None ,compute_full_tree='full' ).fit(x)\n",
    "labels= model.labels_\n",
    "new_df=pd.DataFrame(list(zip(df['text'],labels)),columns=['title','cluster'])\n",
    "\n",
    "\n",
    "\n",
    "print(new_df.sort_values(by=['cluster']))\n",
    "new_df.to_csv('hierarchial.csv')\n"
   ]
  },
  {
   "cell_type": "code",
   "execution_count": 21,
   "metadata": {},
   "outputs": [
    {
     "data": {
      "image/png": "[encoded data removed]",
      "text/plain": [
       "<Figure size 432x288 with 1 Axes>"
      ]
     },
     "metadata": {
      "needs_background": "light"
     },
     "output_type": "display_data"
    }
   ],
   "source": [
    "def plot_dendrogram(model, **kwargs):\n",
    "    # Create linkage matrix and then plot the dendrogram\n",
    "\n",
    "    # create the counts of samples under each node\n",
    "    counts = np.zeros(model.children_.shape[0])\n",
    "    n_samples = len(model.labels_)\n",
    "    for i, merge in enumerate(model.children_):\n",
    "        current_count = 0\n",
    "        for child_idx in merge:\n",
    "            if child_idx < n_samples:\n",
    "                current_count += 1  # leaf node\n",
    "            else:\n",
    "                current_count += counts[child_idx - n_samples]\n",
    "        counts[i] = current_count\n",
    "\n",
    "    linkage_matrix = np.column_stack(\n",
    "        [model.children_, model.distances_, counts]\n",
    "    ).astype(float)\n",
    "\n",
    "    # Plot the corresponding dendrogram\n",
    "    dendrogram(linkage_matrix, **kwargs)\n",
    "plt.title(\"Hierarchical Clustering Dendrogram\")\n",
    "plot_dendrogram(model, truncate_mode=\"level\", p=100)\n",
    "plt.xlabel(\"Number of points in node (or index of point if no parenthesis).\")\n",
    "plt.show()"
   ]
  }
 ],
 "metadata": {
  "kernelspec": {
   "display_name": "Python 3.9.12 ('base')",
   "language": "python",
   "name": "python3"
  },
  "language_info": {
   "codemirror_mode": {
    "name": "ipython",
    "version": 3
   },
   "file_extension": ".py",
   "mimetype": "text/x-python",
   "name": "python",
   "nbconvert_exporter": "python",
   "pygments_lexer": "ipython3",
   "version": "3.9.12"
  },
  "orig_nbformat": 4,
  "vscode": {
   "interpreter": {
    "hash": "36e841676c5106d1e98c47a34dd0dded8fcf4f2c30f0ab1f75ff82fef766011f"
   }
  }
 },
 "nbformat": 4,
 "nbformat_minor": 2
}
