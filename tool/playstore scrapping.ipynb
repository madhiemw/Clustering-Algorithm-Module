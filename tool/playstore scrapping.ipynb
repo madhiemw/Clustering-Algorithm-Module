{
 "cells": [
  {
   "cell_type": "code",
   "execution_count": 1,
   "metadata": {},
   "outputs": [],
   "source": [
    "from google_play_scraper import app, Sort, reviews_all\n",
    "import pandas as pd\n",
    "import numpy as np"
   ]
  },
  {
   "cell_type": "code",
   "execution_count": 3,
   "metadata": {},
   "outputs": [],
   "source": [
    "#US Market\n",
    "\n",
    "from google_play_scraper import Sort, reviews_all\n",
    "\n",
    "\n",
    "us_reviews = reviews_all(\n",
    "    'com.cypherafrica.nothing',\n",
    "    sleep_milliseconds=0, # defaults to 0\n",
    "    lang='en', # defaults to 'en'\n",
    "    country='us', # defaults to 'us'\n",
    "    sort=Sort.NEWEST, # defaults to Sort.MOST_RELEVANT\n",
    ")\n"
   ]
  },
  {
   "cell_type": "code",
   "execution_count": 4,
   "metadata": {},
   "outputs": [
    {
     "name": "stdout",
     "output_type": "stream",
     "text": [
      "                                reviewId              userName  \\\n",
      "0   181b483e-eba0-4364-b0c2-fba795b5ccf7             Ethan Lim   \n",
      "1   7d2402f3-87aa-4b0c-ad63-9d93a87f58c4         Waterpark_Men   \n",
      "2   c2d1d922-0457-485d-8021-e0a9d6659e75              Shadee0_   \n",
      "3   ef024086-e0f3-4465-aad0-ad57333d6d6d           Asheem Adam   \n",
      "4   9a27cef2-c49f-4f23-b778-7ac1084d6a3d       Sreenath Aether   \n",
      "5   ed701064-c798-481d-9e83-30b00f1325d0       Samuel Casillas   \n",
      "6   ee562e33-a4d7-4c66-99ac-2e9952a0a142            Naveen K S   \n",
      "7   7a0b162e-20ff-410b-9447-015fe21387cc              Dr Pizza   \n",
      "8   2f537df2-221b-48fb-ab2b-f09dff77ea86        SUMESH RAJAKAD   \n",
      "9   3e349dd9-8b7a-4489-afe7-c43537f1a1bf      Sarthak Acharjee   \n",
      "10  e0e9d7df-7233-46d5-a264-20bc4ea6580d         A Google user   \n",
      "11  c3adc243-dae1-47d5-89d3-25f66e205108     German Mbianda Rj   \n",
      "12  41e9bd6d-478d-4561-989a-2ea834dc515a      Yatharth godbole   \n",
      "13  efba9b36-53f3-4517-ac10-f57035bdc1b2            Noor Adnan   \n",
      "14  e8cd90a5-8a0e-4a1f-b72a-8d43a95b531d       Angela Bernardo   \n",
      "15  d61018d2-2776-4257-a60a-93e64aca870e        Farhan ebrahim   \n",
      "16  6c044e41-e0e9-4dc5-afbf-6a5ae15eb498          Sinan Tuncay   \n",
      "17  405fbb8e-01ac-42e0-bd4f-3a3593d9b2ea                 Colby   \n",
      "18  b2af2a5f-d3f5-49f8-a1a8-1fa71d378f13           Michael Day   \n",
      "19  21189a6d-26bc-4e04-ad56-2e52585e10e2       Leanne Easthope   \n",
      "20  1a02f1b0-5ac2-4cd2-85e7-f7571974ffa8               Iam. Me   \n",
      "21  228ca0d8-e769-4a19-9188-cd6647f6051f                 h e y   \n",
      "22  ff91735d-1ab5-432a-b847-0c4a238d0b30             Isaac Koo   \n",
      "23  b84f0943-7efa-4a35-9016-f5b66d71650f             Irka like   \n",
      "24  18a219a7-3497-44b4-8d00-dfa44284e472         Green_ Velvet   \n",
      "25  beb3f2ec-3a6b-4d24-9aa3-82e528edbb63           crazy gamer   \n",
      "26  9337732c-000e-4182-a7c4-facd3d15154c        ألين جاسم محمد   \n",
      "27  11935fdb-9297-45d6-a5d2-519c297c3999      Botita memes !!!   \n",
      "28  7aa18cb5-5f17-437d-b325-a8d622843208          Minnu Taneti   \n",
      "29  0a585d60-bb5c-4595-ad35-0c5d110185a2      Symphony VanNess   \n",
      "30  1153602c-d21a-465e-8a64-082c03aeefb2               Kitsune   \n",
      "31  6002146e-505e-4f6c-93aa-83bbb599a8d6           Ender Nasuf   \n",
      "32  1d6dc652-8341-4a9e-9fb8-481c2fad6ae7    Gamer “Firewolf” D   \n",
      "33  6f027ec7-15a4-4b16-816d-fb2dfd2e044d       Paige Mahboobie   \n",
      "34  dd3ae88c-6966-4a36-972f-8221244b21c6               -V4MPY-   \n",
      "35  85c7d19e-a174-4c04-b7fe-e3758299b37e     Jeremiah Fontaine   \n",
      "36  0b879a4f-00b8-4540-8826-92fe5db2924d       Ben van Zweeden   \n",
      "37  2db33462-a917-478f-a9f3-c21ac165d7c9  Voulkt Voulkt Voulkt   \n",
      "38  5d1fd2a3-d759-4225-ad69-3f1a4c0343bc          Esther Gross   \n",
      "39  858ee3ff-3100-47b6-842b-fc47a25595ee              uwenalil   \n",
      "40  8215fcef-528b-41de-973d-77e03a3b2b56            JD jump123   \n",
      "41  94de8e78-2dc3-4cad-89ed-ae7b6d07cc13          larisa pilav   \n",
      "42  9e2bc991-c786-4172-ad43-505ca4134b2d           Jimi Pawlak   \n",
      "43  164a5d3e-d7a8-45bb-a973-b6056ab88175    George Sepetadelis   \n",
      "44  97dd56d5-b7b0-490f-aed4-4da7b5fb6073           Shiva Kumar   \n",
      "45  5ccf6e51-f929-4f3e-91a9-86fbf126a211              CorboOMG   \n",
      "46  0684a74e-fab9-4416-aabd-a6fdf11ccb06                   M V   \n",
      "47  04a5a3da-c464-4865-b7c0-bd295b1c1bcc        Rufus Rethamel   \n",
      "48  304717f7-d662-4f86-8b56-9060b382e7e0         Aariz Hossain   \n",
      "49  d2d11bb3-ed7b-4a16-8b79-0acd2f5271ed         ubongo africa   \n",
      "50  e0110543-0880-49f9-8e8b-5937030d113c    TonnieBull Miricho   \n",
      "\n",
      "                                            userImage  \\\n",
      "0   https://play-lh.googleusercontent.com/a/AEdFTp...   \n",
      "1   https://play-lh.googleusercontent.com/a-/AD5-W...   \n",
      "2   https://play-lh.googleusercontent.com/a/AEdFTp...   \n",
      "3   https://play-lh.googleusercontent.com/a-/AD5-W...   \n",
      "4   https://play-lh.googleusercontent.com/a-/AD5-W...   \n",
      "5   https://play-lh.googleusercontent.com/a-/AD5-W...   \n",
      "6   https://play-lh.googleusercontent.com/a-/AD5-W...   \n",
      "7   https://play-lh.googleusercontent.com/a-/AD5-W...   \n",
      "8   https://play-lh.googleusercontent.com/a-/AD5-W...   \n",
      "9   https://play-lh.googleusercontent.com/a-/AD5-W...   \n",
      "10  https://play-lh.googleusercontent.com/EGemoI2N...   \n",
      "11  https://play-lh.googleusercontent.com/a-/AD5-W...   \n",
      "12  https://play-lh.googleusercontent.com/a/AEdFTp...   \n",
      "13  https://play-lh.googleusercontent.com/a-/AD5-W...   \n",
      "14  https://play-lh.googleusercontent.com/a/AEdFTp...   \n",
      "15  https://play-lh.googleusercontent.com/a-/AD5-W...   \n",
      "16  https://play-lh.googleusercontent.com/a-/AD5-W...   \n",
      "17  https://play-lh.googleusercontent.com/a/AEdFTp...   \n",
      "18  https://play-lh.googleusercontent.com/a-/AD5-W...   \n",
      "19  https://play-lh.googleusercontent.com/a/AEdFTp...   \n",
      "20  https://play-lh.googleusercontent.com/a-/AD5-W...   \n",
      "21  https://play-lh.googleusercontent.com/a-/AD5-W...   \n",
      "22  https://play-lh.googleusercontent.com/a/AEdFTp...   \n",
      "23  https://play-lh.googleusercontent.com/a-/AD5-W...   \n",
      "24  https://play-lh.googleusercontent.com/a-/AD5-W...   \n",
      "25  https://play-lh.googleusercontent.com/a/AEdFTp...   \n",
      "26  https://play-lh.googleusercontent.com/a-/AD5-W...   \n",
      "27  https://play-lh.googleusercontent.com/a-/AD5-W...   \n",
      "28  https://play-lh.googleusercontent.com/a-/AD5-W...   \n",
      "29  https://play-lh.googleusercontent.com/a/AEdFTp...   \n",
      "30  https://play-lh.googleusercontent.com/a-/AD5-W...   \n",
      "31  https://play-lh.googleusercontent.com/a/AEdFTp...   \n",
      "32  https://play-lh.googleusercontent.com/a-/AD5-W...   \n",
      "33  https://play-lh.googleusercontent.com/a/AEdFTp...   \n",
      "34  https://play-lh.googleusercontent.com/a/AEdFTp...   \n",
      "35  https://play-lh.googleusercontent.com/a/AEdFTp...   \n",
      "36  https://play-lh.googleusercontent.com/a-/AD5-W...   \n",
      "37  https://play-lh.googleusercontent.com/a/AEdFTp...   \n",
      "38  https://play-lh.googleusercontent.com/a/AEdFTp...   \n",
      "39  https://play-lh.googleusercontent.com/a-/AD5-W...   \n",
      "40  https://play-lh.googleusercontent.com/a/AEdFTp...   \n",
      "41  https://play-lh.googleusercontent.com/a/AEdFTp...   \n",
      "42  https://play-lh.googleusercontent.com/a/AEdFTp...   \n",
      "43  https://play-lh.googleusercontent.com/a-/AD5-W...   \n",
      "44  https://play-lh.googleusercontent.com/a-/AD5-W...   \n",
      "45  https://play-lh.googleusercontent.com/a-/AD5-W...   \n",
      "46  https://play-lh.googleusercontent.com/a-/AD5-W...   \n",
      "47  https://play-lh.googleusercontent.com/a-/AD5-W...   \n",
      "48  https://play-lh.googleusercontent.com/a-/AD5-W...   \n",
      "49  https://play-lh.googleusercontent.com/a/AEdFTp...   \n",
      "50  https://play-lh.googleusercontent.com/a-/AD5-W...   \n",
      "\n",
      "                                              content  score  thumbsUpCount  \\\n",
      "0   This is so cool I have never seen an app like ...      5              0   \n",
      "1                                     Why Its Nothing      1              0   \n",
      "2                      Exactly what i was looking for      5              0   \n",
      "3                                             Northig      5              0   \n",
      "4                  This app literally does nothing!!!      2              0   \n",
      "5   It's cool and it does exactly what it said not...      5              1   \n",
      "6      It is unbelievably good.Worth trying.Must try🎈      5              0   \n",
      "7                                   it broke my phone      1              0   \n",
      "8                                       Very good app      5              0   \n",
      "9   I can't believe this...😮😮😮 It's actually amazi...      5              1   \n",
      "10            Create a new why no update on this apps      5              0   \n",
      "11           It does what it says, which is nothing 🤣      5              0   \n",
      "12          I love this game for sure very intresting      5              0   \n",
      "13                                      Just Nothing.      1              0   \n",
      "14            It actually does nothing very fun 20/10      5             12   \n",
      "15                                         grait apps      1              0   \n",
      "16                         It holds what it promises!      5              0   \n",
      "17                                   ITS SO GOOD PLAY      5              0   \n",
      "18                                          It's good      5              0   \n",
      "19                              This app does nothing      5              0   \n",
      "20  This game is so good unbelievable graphics gre...      5              9   \n",
      "21                          Best app I have ever used      5              0   \n",
      "22                    OMG SO FUN !11!!!!!!!!!!!!1!!!!      5              0   \n",
      "23                           Really interesting game!      5              0   \n",
      "24              Didn't disappoint, there was nothing!      5              0   \n",
      "25                               First in three star.      3              0   \n",
      "26                         SUPER FIN WITH NOTHING 𓆩😌𓆪      5              3   \n",
      "27                                     Cool app .___.      5              0   \n",
      "28                                  First in two star      2              2   \n",
      "29  THIS IS TH BEST APP EVERRR IM ALREADY ON LEVEL...      5              0   \n",
      "30                          Exactly what I needed! :)      5              0   \n",
      "31                                              Pepsi      5              2   \n",
      "32                                       BEST NOTHING      5              0   \n",
      "33  AMAZING! EXACTLY as described .phenomenal expe...      5              0   \n",
      "34             WOW AMAZING I LOVE IT ITS SO AMAZING 🤩      5              0   \n",
      "35                               Omg I'm obsessed!!!!      5              0   \n",
      "36  \"What are you looking at?\" \"Nothing\" \"....\" \"....      5              7   \n",
      "37                    best app I have ever downloaded      5              0   \n",
      "38  Just got it and it's a 5/100! NOTHING can comp...      5             10   \n",
      "39                                 Perfect app for me      5              0   \n",
      "40                                    First in 1 star      1              0   \n",
      "41  this game is very fun and contains tons of lev...      5             28   \n",
      "42  This is the best game you should download it w...      5              4   \n",
      "43                                          Amazing 🤩      5              3   \n",
      "44                                        🤣🤣🤣🤣🤣🤣🤣🤣🤣🤣🤣      5              1   \n",
      "45                    Best past time very intertaning      5             10   \n",
      "46  ㅤㅤㅤㅤㅤㅤㅤㅤㅤㅤㅤㅤㅤㅤㅤㅤㅤㅤㅤㅤㅤㅤㅤㅤㅤㅤㅤㅤㅤㅤㅤㅤㅤㅤㅤㅤㅤㅤㅤㅤㅤㅤㅤㅤㅤㅤ...      5              4   \n",
      "47                     I got exactly what I came for!      5              8   \n",
      "48                                       Hahahaha 🤣🤣🤣      5              1   \n",
      "49  This app is great and does absolutely nothing....      5             25   \n",
      "50  Great up that does absolutely nothing ,five st...      5              4   \n",
      "\n",
      "   reviewCreatedVersion                  at replyContent repliedAt  \n",
      "0                  None 2022-12-09 02:42:30         None      None  \n",
      "1                  None 2022-12-02 13:14:03         None      None  \n",
      "2                  None 2022-11-24 01:26:41         None      None  \n",
      "3                   1.1 2022-11-20 19:49:06         None      None  \n",
      "4                   1.1 2022-11-20 12:22:46         None      None  \n",
      "5                  None 2022-11-19 04:23:20         None      None  \n",
      "6                   1.1 2022-11-17 16:08:11         None      None  \n",
      "7                  None 2022-11-16 04:58:36         None      None  \n",
      "8                   1.1 2022-11-15 14:09:08         None      None  \n",
      "9                   1.1 2022-11-09 09:12:33         None      None  \n",
      "10                 None 2022-11-04 17:52:39         None      None  \n",
      "11                  1.1 2022-10-31 14:57:12         None      None  \n",
      "12                  1.1 2022-10-28 18:37:19         None      None  \n",
      "13                 None 2022-10-25 13:29:08         None      None  \n",
      "14                 None 2022-10-12 17:59:42         None      None  \n",
      "15                 None 2022-10-08 15:11:48         None      None  \n",
      "16                  1.1 2022-10-07 22:59:20         None      None  \n",
      "17                 None 2022-10-07 01:10:44         None      None  \n",
      "18                 None 2022-10-05 00:52:45         None      None  \n",
      "19                  1.1 2022-09-30 19:59:32         None      None  \n",
      "20                 None 2022-09-28 05:30:51         None      None  \n",
      "21                 None 2022-09-24 17:50:03         None      None  \n",
      "22                  1.1 2022-09-21 07:36:27         None      None  \n",
      "23                 None 2022-09-19 20:42:59         None      None  \n",
      "24                 None 2022-09-15 12:43:58         None      None  \n",
      "25                  1.1 2022-09-07 19:22:10         None      None  \n",
      "26                 None 2022-09-07 14:47:48         None      None  \n",
      "27                  1.1 2022-09-03 08:33:58         None      None  \n",
      "28                 None 2022-09-02 10:05:56         None      None  \n",
      "29                  1.1 2022-09-02 03:22:16         None      None  \n",
      "30                  1.1 2022-08-27 19:56:17         None      None  \n",
      "31                  1.1 2022-08-26 23:57:30         None      None  \n",
      "32                 None 2022-08-26 20:17:14         None      None  \n",
      "33                  1.1 2022-08-25 03:11:40         None      None  \n",
      "34                  1.1 2022-08-21 02:50:20         None      None  \n",
      "35                  1.1 2022-08-19 08:26:28         None      None  \n",
      "36                  1.1 2022-08-13 23:57:18         None      None  \n",
      "37                  1.1 2022-08-12 20:51:05         None      None  \n",
      "38                  1.1 2022-08-10 07:47:39         None      None  \n",
      "39                  1.1 2022-08-09 14:22:38         None      None  \n",
      "40                  1.1 2022-08-07 07:49:48         None      None  \n",
      "41                  1.1 2022-08-02 01:36:30         None      None  \n",
      "42                  1.1 2022-07-25 17:38:39         None      None  \n",
      "43                  1.1 2022-07-18 06:50:50         None      None  \n",
      "44                  1.1 2022-07-17 20:41:33         None      None  \n",
      "45                  1.1 2022-06-12 03:48:46         None      None  \n",
      "46                  1.1 2022-06-11 20:50:23         None      None  \n",
      "47                  1.1 2022-06-09 23:09:15         None      None  \n",
      "48                 None 2022-05-16 02:21:03         None      None  \n",
      "49                  1.1 2022-03-18 01:48:15         None      None  \n",
      "50                 None 2022-03-18 01:44:39         None      None  \n"
     ]
    }
   ],
   "source": [
    "df = pd.DataFrame(np.array(us_reviews),columns=['review'])\n",
    "\n",
    "\n",
    "df = df.join(pd.DataFrame(df.pop('review').tolist()))\n",
    "\n",
    "\n",
    "\n",
    "print(df)\n",
    "df.to_csv('new.csv')"
   ]
  },
  {
   "cell_type": "code",
   "execution_count": 4,
   "metadata": {},
   "outputs": [
    {
     "name": "stdout",
     "output_type": "stream",
     "text": [
      "(58662, 10)\n"
     ]
    }
   ],
   "source": [
    "print(df.shape)\n"
   ]
  },
  {
   "cell_type": "code",
   "execution_count": 5,
   "metadata": {},
   "outputs": [
    {
     "name": "stdout",
     "output_type": "stream",
     "text": [
      "\n"
     ]
    },
    {
     "data": {
      "text/plain": [
       "5    38433\n",
       "1    11666\n",
       "4     4242\n",
       "3     2252\n",
       "2     2069\n",
       "Name: score, dtype: int64"
      ]
     },
     "execution_count": 5,
     "metadata": {},
     "output_type": "execute_result"
    }
   ],
   "source": [
    "df['score'].unique()\n",
    "print(\"\")\n",
    "df['score'].value_counts()"
   ]
  },
  {
   "cell_type": "code",
   "execution_count": 6,
   "metadata": {},
   "outputs": [
    {
     "data": {
      "text/plain": [
       "(11666, 10)"
      ]
     },
     "execution_count": 6,
     "metadata": {},
     "output_type": "execute_result"
    }
   ],
   "source": [
    "df_nilai = df[df['score']==1]\n",
    "df_nilai.shape"
   ]
  },
  {
   "cell_type": "code",
   "execution_count": 7,
   "metadata": {},
   "outputs": [
    {
     "data": {
      "text/plain": [
       "array([1], dtype=int64)"
      ]
     },
     "execution_count": 7,
     "metadata": {},
     "output_type": "execute_result"
    }
   ],
   "source": [
    "df_nilai['score'].unique()\n"
   ]
  },
  {
   "cell_type": "code",
   "execution_count": 17,
   "metadata": {},
   "outputs": [
    {
     "name": "stderr",
     "output_type": "stream",
     "text": [
      "C:\\Users\\jhonm\\AppData\\Local\\Temp\\ipykernel_50448\\323473287.py:5: FutureWarning: The default value of regex will change from True to False in a future version.\n",
      "  df_nilai.content = df_nilai.content.str.replace('\\d+', '')\n",
      "C:\\Users\\jhonm\\AppData\\Local\\Temp\\ipykernel_50448\\323473287.py:2: FutureWarning: The default value of regex will change from True to False in a future version. In addition, single character regular expressions will *not* be treated as literal strings when regex=True.\n",
      "  df_nilai['content']= df_nilai['content'].str.replace(a,b)\n"
     ]
    }
   ],
   "source": [
    "def clean(a,b):\n",
    "    df_nilai['content']= df_nilai['content'].str.replace(a,b)\n",
    "\n",
    "df_nilai['content'] = df_nilai['content'].astype(str).str.lower()\n",
    "df_nilai.content = df_nilai.content.str.replace('\\d+', '')\n",
    "clean('.','')\n",
    "clean(',','')\n",
    "clean('-','')\n",
    "clean('/','')\n",
    "clean(':','')\n"
   ]
  },
  {
   "cell_type": "code",
   "execution_count": 18,
   "metadata": {},
   "outputs": [
    {
     "name": "stdout",
     "output_type": "stream",
     "text": [
      "  (0, 509)\t0.31891095766839656\n",
      "  (0, 13844)\t0.36487707140020925\n",
      "  (0, 11083)\t0.3162466807246973\n",
      "  (0, 336)\t0.4648281768375855\n",
      "  (0, 9107)\t0.20650480443080266\n",
      "  (0, 4528)\t0.20728712710371497\n",
      "  (0, 11674)\t0.4156244607820815\n",
      "  (0, 7558)\t0.2702805669928846\n",
      "  (0, 3908)\t0.3430391554671038\n",
      "  (1, 2040)\t0.36683018133999595\n",
      "  (1, 12509)\t0.8622464551751127\n",
      "  (1, 4256)\t0.34923726690606494\n",
      "  (2, 3764)\t0.30060372211039205\n",
      "  (2, 10026)\t0.2063957160087735\n",
      "  (2, 4632)\t0.1334577619510196\n",
      "  (2, 7158)\t0.2669086052843923\n",
      "  (2, 7157)\t0.2644909953944601\n",
      "  (2, 3750)\t0.2256502350934918\n",
      "  (2, 590)\t0.21944972109112443\n",
      "  (2, 6351)\t0.2929723298051189\n",
      "  (2, 1257)\t0.2995771133951804\n",
      "  (2, 12519)\t0.3784803062104987\n",
      "  (2, 13346)\t0.16664510587284598\n",
      "  (2, 11813)\t0.23450532999386223\n",
      "  (2, 12995)\t0.3392309854681953\n",
      "  :\t:\n",
      "  (11661, 3958)\t0.18990248925463987\n",
      "  (11661, 580)\t0.10382792104527148\n",
      "  (11661, 10026)\t0.4843174629887376\n",
      "  (11661, 12995)\t0.13267030071023195\n",
      "  (11662, 6759)\t0.4572999946245501\n",
      "  (11662, 12472)\t0.5960873660514252\n",
      "  (11662, 9437)\t0.39108525701674435\n",
      "  (11662, 6822)\t0.5316097146350955\n",
      "  (11663, 13051)\t0.5048535861793261\n",
      "  (11663, 10563)\t0.4836879744607189\n",
      "  (11663, 8750)\t0.30614267717363336\n",
      "  (11663, 2562)\t0.3016973696241174\n",
      "  (11663, 649)\t0.2407474211173486\n",
      "  (11663, 12353)\t0.37736106463065155\n",
      "  (11663, 9437)\t0.24209028157209053\n",
      "  (11663, 14117)\t0.25972246717086894\n",
      "  (11664, 7430)\t0.6562825953046026\n",
      "  (11664, 5539)\t0.408662632130951\n",
      "  (11664, 7400)\t0.5125232091453279\n",
      "  (11664, 1643)\t0.24426109582838346\n",
      "  (11664, 4632)\t0.2827445584837132\n",
      "  (11665, 4644)\t0.5456924981561786\n",
      "  (11665, 7410)\t0.47819236489301653\n",
      "  (11665, 4867)\t0.5856480089686343\n",
      "  (11665, 5616)\t0.36134217745119024\n"
     ]
    },
    {
     "data": {
      "text/plain": [
       "array([[0., 0., 0., ..., 0., 0., 0.],\n",
       "       [0., 0., 0., ..., 0., 0., 0.],\n",
       "       [0., 0., 0., ..., 0., 0., 0.],\n",
       "       ...,\n",
       "       [0., 0., 0., ..., 0., 0., 0.],\n",
       "       [0., 0., 0., ..., 0., 0., 0.],\n",
       "       [0., 0., 0., ..., 0., 0., 0.]])"
      ]
     },
     "execution_count": 18,
     "metadata": {},
     "output_type": "execute_result"
    }
   ],
   "source": [
    "from sklearn.feature_extraction.text import TfidfVectorizer\n",
    "vectorizer = TfidfVectorizer()\n",
    "x = vectorizer.fit_transform(df_nilai['content'].values.astype('U')) \n",
    "print(x) \n",
    "x.toarray()"
   ]
  },
  {
   "cell_type": "code",
   "execution_count": 10,
   "metadata": {},
   "outputs": [],
   "source": [
    "# from sklearn.cluster import KMeans\n",
    "# from yellowbrick.cluster import KElbowVisualizer \n",
    "# import matplotlib.pyplot as plt\n",
    "# %matplotlib inline\n",
    "# model = KMeans()\n",
    "# visualizer = KElbowVisualizer(model, k=(1, 20))\n",
    "\n",
    "# visualizer.fit(x) \n",
    "# visualizer.show() \n",
    "# plt.show() "
   ]
  },
  {
   "cell_type": "code",
   "execution_count": 19,
   "metadata": {},
   "outputs": [
    {
     "name": "stdout",
     "output_type": "stream",
     "text": [
      "                                                   title  cluster\n",
      "11665                                       good service        0\n",
      "5839              Gak bisa d buka 😭, padahal baru top up        0\n",
      "5838   Why today Dana App can not use? I check there ...        0\n",
      "5836   Apk nya skrg kaya berat banget, stuck di logo ...        0\n",
      "5834    untuk login gagal trs, boleh segera diselesaikab        0\n",
      "...                                                  ...      ...\n",
      "4147                                  Notif lu kayak tai        5\n",
      "7475                                                Nice        5\n",
      "2063                                        selalu error        5\n",
      "1304   baguss lah, tapi tolong jadiin bisa ngisi dana...        5\n",
      "2288                          Sering banget gangguan nya        5\n",
      "\n",
      "[11666 rows x 2 columns]\n"
     ]
    }
   ],
   "source": [
    "from sklearn.cluster import AgglomerativeClustering\n",
    "x = x.toarray()\n",
    "model = AgglomerativeClustering(distance_threshold=7, n_clusters=None ,compute_full_tree='full' ).fit(x)\n",
    "labels= model.labels_\n",
    "new_df=pd.DataFrame(list(zip(df['content'],labels)),columns=['title','cluster'])\n",
    "print(new_df.sort_values(by=['cluster']))\n",
    "new_df.to_csv('kkk.csv')"
   ]
  },
  {
   "cell_type": "code",
   "execution_count": 12,
   "metadata": {},
   "outputs": [
    {
     "name": "stdout",
     "output_type": "stream",
     "text": [
      "1    9311\n",
      "0    2355\n",
      "Name: cluster, dtype: int64\n"
     ]
    }
   ],
   "source": [
    "print(new_df['cluster'].value_counts())"
   ]
  },
  {
   "cell_type": "code",
   "execution_count": 13,
   "metadata": {},
   "outputs": [
    {
     "ename": "ValueError",
     "evalue": "array length 11666 does not match index length 58662",
     "output_type": "error",
     "traceback": [
      "\u001b[1;31m---------------------------------------------------------------------------\u001b[0m",
      "\u001b[1;31mValueError\u001b[0m                                Traceback (most recent call last)",
      "\u001b[1;32mUntitled-2.ipynb Cell 13\u001b[0m in \u001b[0;36m<cell line: 4>\u001b[1;34m()\u001b[0m\n\u001b[0;32m      <a href='vscode-notebook-cell:Untitled-2.ipynb?jupyter-notebook#X15sdW50aXRsZWQ%3D?line=1'>2</a>\u001b[0m \u001b[39mfrom\u001b[39;00m \u001b[39mwordcloud\u001b[39;00m \u001b[39mimport\u001b[39;00m WordCloud\n\u001b[0;32m      <a href='vscode-notebook-cell:Untitled-2.ipynb?jupyter-notebook#X15sdW50aXRsZWQ%3D?line=2'>3</a>\u001b[0m result\u001b[39m=\u001b[39m{\u001b[39m'\u001b[39m\u001b[39mcluster\u001b[39m\u001b[39m'\u001b[39m:labels,\u001b[39m'\u001b[39m\u001b[39mwiki\u001b[39m\u001b[39m'\u001b[39m:df[\u001b[39m'\u001b[39m\u001b[39mcontent\u001b[39m\u001b[39m'\u001b[39m]}\n\u001b[1;32m----> <a href='vscode-notebook-cell:Untitled-2.ipynb?jupyter-notebook#X15sdW50aXRsZWQ%3D?line=3'>4</a>\u001b[0m result\u001b[39m=\u001b[39mpd\u001b[39m.\u001b[39;49mDataFrame(result)\n\u001b[0;32m      <a href='vscode-notebook-cell:Untitled-2.ipynb?jupyter-notebook#X15sdW50aXRsZWQ%3D?line=4'>5</a>\u001b[0m \u001b[39mfor\u001b[39;00m k \u001b[39min\u001b[39;00m \u001b[39mrange\u001b[39m(\u001b[39m0\u001b[39m,true_k):\n\u001b[0;32m      <a href='vscode-notebook-cell:Untitled-2.ipynb?jupyter-notebook#X15sdW50aXRsZWQ%3D?line=5'>6</a>\u001b[0m    s\u001b[39m=\u001b[39mresult[result\u001b[39m.\u001b[39mcluster\u001b[39m==\u001b[39mk]\n",
      "File \u001b[1;32mc:\\Users\\jhonm\\anaconda3\\lib\\site-packages\\pandas\\core\\frame.py:636\u001b[0m, in \u001b[0;36mDataFrame.__init__\u001b[1;34m(self, data, index, columns, dtype, copy)\u001b[0m\n\u001b[0;32m    630\u001b[0m     mgr \u001b[39m=\u001b[39m \u001b[39mself\u001b[39m\u001b[39m.\u001b[39m_init_mgr(\n\u001b[0;32m    631\u001b[0m         data, axes\u001b[39m=\u001b[39m{\u001b[39m\"\u001b[39m\u001b[39mindex\u001b[39m\u001b[39m\"\u001b[39m: index, \u001b[39m\"\u001b[39m\u001b[39mcolumns\u001b[39m\u001b[39m\"\u001b[39m: columns}, dtype\u001b[39m=\u001b[39mdtype, copy\u001b[39m=\u001b[39mcopy\n\u001b[0;32m    632\u001b[0m     )\n\u001b[0;32m    634\u001b[0m \u001b[39melif\u001b[39;00m \u001b[39misinstance\u001b[39m(data, \u001b[39mdict\u001b[39m):\n\u001b[0;32m    635\u001b[0m     \u001b[39m# GH#38939 de facto copy defaults to False only in non-dict cases\u001b[39;00m\n\u001b[1;32m--> 636\u001b[0m     mgr \u001b[39m=\u001b[39m dict_to_mgr(data, index, columns, dtype\u001b[39m=\u001b[39;49mdtype, copy\u001b[39m=\u001b[39;49mcopy, typ\u001b[39m=\u001b[39;49mmanager)\n\u001b[0;32m    637\u001b[0m \u001b[39melif\u001b[39;00m \u001b[39misinstance\u001b[39m(data, ma\u001b[39m.\u001b[39mMaskedArray):\n\u001b[0;32m    638\u001b[0m     \u001b[39mimport\u001b[39;00m \u001b[39mnumpy\u001b[39;00m\u001b[39m.\u001b[39;00m\u001b[39mma\u001b[39;00m\u001b[39m.\u001b[39;00m\u001b[39mmrecords\u001b[39;00m \u001b[39mas\u001b[39;00m \u001b[39mmrecords\u001b[39;00m\n",
      "File \u001b[1;32mc:\\Users\\jhonm\\anaconda3\\lib\\site-packages\\pandas\\core\\internals\\construction.py:502\u001b[0m, in \u001b[0;36mdict_to_mgr\u001b[1;34m(data, index, columns, dtype, typ, copy)\u001b[0m\n\u001b[0;32m    494\u001b[0m     arrays \u001b[39m=\u001b[39m [\n\u001b[0;32m    495\u001b[0m         x\n\u001b[0;32m    496\u001b[0m         \u001b[39mif\u001b[39;00m \u001b[39mnot\u001b[39;00m \u001b[39mhasattr\u001b[39m(x, \u001b[39m\"\u001b[39m\u001b[39mdtype\u001b[39m\u001b[39m\"\u001b[39m) \u001b[39mor\u001b[39;00m \u001b[39mnot\u001b[39;00m \u001b[39misinstance\u001b[39m(x\u001b[39m.\u001b[39mdtype, ExtensionDtype)\n\u001b[0;32m    497\u001b[0m         \u001b[39melse\u001b[39;00m x\u001b[39m.\u001b[39mcopy()\n\u001b[0;32m    498\u001b[0m         \u001b[39mfor\u001b[39;00m x \u001b[39min\u001b[39;00m arrays\n\u001b[0;32m    499\u001b[0m     ]\n\u001b[0;32m    500\u001b[0m     \u001b[39m# TODO: can we get rid of the dt64tz special case above?\u001b[39;00m\n\u001b[1;32m--> 502\u001b[0m \u001b[39mreturn\u001b[39;00m arrays_to_mgr(arrays, columns, index, dtype\u001b[39m=\u001b[39;49mdtype, typ\u001b[39m=\u001b[39;49mtyp, consolidate\u001b[39m=\u001b[39;49mcopy)\n",
      "File \u001b[1;32mc:\\Users\\jhonm\\anaconda3\\lib\\site-packages\\pandas\\core\\internals\\construction.py:120\u001b[0m, in \u001b[0;36marrays_to_mgr\u001b[1;34m(arrays, columns, index, dtype, verify_integrity, typ, consolidate)\u001b[0m\n\u001b[0;32m    117\u001b[0m \u001b[39mif\u001b[39;00m verify_integrity:\n\u001b[0;32m    118\u001b[0m     \u001b[39m# figure out the index, if necessary\u001b[39;00m\n\u001b[0;32m    119\u001b[0m     \u001b[39mif\u001b[39;00m index \u001b[39mis\u001b[39;00m \u001b[39mNone\u001b[39;00m:\n\u001b[1;32m--> 120\u001b[0m         index \u001b[39m=\u001b[39m _extract_index(arrays)\n\u001b[0;32m    121\u001b[0m     \u001b[39melse\u001b[39;00m:\n\u001b[0;32m    122\u001b[0m         index \u001b[39m=\u001b[39m ensure_index(index)\n",
      "File \u001b[1;32mc:\\Users\\jhonm\\anaconda3\\lib\\site-packages\\pandas\\core\\internals\\construction.py:688\u001b[0m, in \u001b[0;36m_extract_index\u001b[1;34m(data)\u001b[0m\n\u001b[0;32m    683\u001b[0m     \u001b[39mif\u001b[39;00m lengths[\u001b[39m0\u001b[39m] \u001b[39m!=\u001b[39m \u001b[39mlen\u001b[39m(index):\n\u001b[0;32m    684\u001b[0m         msg \u001b[39m=\u001b[39m (\n\u001b[0;32m    685\u001b[0m             \u001b[39mf\u001b[39m\u001b[39m\"\u001b[39m\u001b[39marray length \u001b[39m\u001b[39m{\u001b[39;00mlengths[\u001b[39m0\u001b[39m]\u001b[39m}\u001b[39;00m\u001b[39m does not match index \u001b[39m\u001b[39m\"\u001b[39m\n\u001b[0;32m    686\u001b[0m             \u001b[39mf\u001b[39m\u001b[39m\"\u001b[39m\u001b[39mlength \u001b[39m\u001b[39m{\u001b[39;00m\u001b[39mlen\u001b[39m(index)\u001b[39m}\u001b[39;00m\u001b[39m\"\u001b[39m\n\u001b[0;32m    687\u001b[0m         )\n\u001b[1;32m--> 688\u001b[0m         \u001b[39mraise\u001b[39;00m \u001b[39mValueError\u001b[39;00m(msg)\n\u001b[0;32m    689\u001b[0m \u001b[39melse\u001b[39;00m:\n\u001b[0;32m    690\u001b[0m     index \u001b[39m=\u001b[39m default_index(lengths[\u001b[39m0\u001b[39m])\n",
      "\u001b[1;31mValueError\u001b[0m: array length 11666 does not match index length 58662"
     ]
    }
   ],
   "source": [
    "import matplotlib.pyplot as plt\n",
    "from wordcloud import WordCloud\n",
    "result={'cluster':labels,'wiki':df['content']}\n",
    "result=pd.DataFrame(result)\n",
    "for k in range(0,true_k):\n",
    "   s=result[result.cluster==k]\n",
    "   text=s['wiki'].str.cat(sep=' ')\n",
    "   text=text.lower()\n",
    "   text=' '.join([word for word in text.split()])\n",
    "   wordcloud = WordCloud(max_font_size=50, max_words=100, background_color=\"white\").generate(text)\n",
    "   print('')\n",
    "   print('')\n",
    "   print('Cluster: {}'.format(k))\n",
    "   print('Titles')\n",
    "   plt.figure()\n",
    "   plt.imshow(wordcloud, interpolation=\"bilinear\")\n",
    "   plt.axis(\"off\")\n",
    "   plt.show()\n",
    "   print(s)\n",
    "   result"
   ]
  }
 ],
 "metadata": {
  "kernelspec": {
   "display_name": "base",
   "language": "python",
   "name": "python3"
  },
  "language_info": {
   "codemirror_mode": {
    "name": "ipython",
    "version": 3
   },
   "file_extension": ".py",
   "mimetype": "text/x-python",
   "name": "python",
   "nbconvert_exporter": "python",
   "pygments_lexer": "ipython3",
   "version": "3.9.12"
  },
  "orig_nbformat": 4,
  "vscode": {
   "interpreter": {
    "hash": "36e841676c5106d1e98c47a34dd0dded8fcf4f2c30f0ab1f75ff82fef766011f"
   }
  }
 },
 "nbformat": 4,
 "nbformat_minor": 2
}
